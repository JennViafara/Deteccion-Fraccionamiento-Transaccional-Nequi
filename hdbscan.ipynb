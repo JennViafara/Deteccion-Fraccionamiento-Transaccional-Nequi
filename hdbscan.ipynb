{
 "cells": [
  {
   "cell_type": "code",
   "execution_count": null,
   "metadata": {},
   "outputs": [],
   "source": [
    "import pandas as pd\n",
    "import hdbscan"
   ]
  },
  {
   "cell_type": "code",
   "execution_count": null,
   "metadata": {},
   "outputs": [],
   "source": [
    "df_mod = pd.read_csv('user_data_group_1_ft.csv')"
   ]
  },
  {
   "cell_type": "markdown",
   "metadata": {},
   "source": [
    "Eliminar y agregar columnas para alimentar el modelo"
   ]
  },
  {
   "cell_type": "code",
   "execution_count": null,
   "metadata": {},
   "outputs": [],
   "source": [
    "#### CREACIÓN DE DICCIONARIO PARA CAMBIAR LA COLUMNA misma_ventana A NUMERICA\n",
    "dic_misma_ventana = {0:0}\n",
    "MISMA = df_mod[df_mod['misma_ventana'] != 0]['misma_ventana'].unique()\n",
    "for i in range(len(MISMA)):\n",
    "    misma_ventana = MISMA[i]\n",
    "    dic_misma_ventana[misma_ventana] = i + 1"
   ]
  },
  {
   "cell_type": "code",
   "execution_count": null,
   "metadata": {},
   "outputs": [],
   "source": [
    "#### CREACIÓN DE DICCIONARIO PARA CAMBIAR LA COLUMNA account_number A NUMERICA\n",
    "dic_account_number = {}\n",
    "MISMO = df_mod['account_number'].unique()\n",
    "for i in range(len(MISMO)):\n",
    "    account_number = MISMO[i]\n",
    "    dic_account_number[account_number] = i + 1"
   ]
  },
  {
   "cell_type": "code",
   "execution_count": null,
   "metadata": {},
   "outputs": [],
   "source": [
    "#X = df_mod[['account_number','transaction_amount','diff_time_hours','varias_transacciones_xdia','misma_ventana']]\n",
    "X = df_mod[['transaction_amount','diff_time_hours','misma_ventana','umbral']]\n",
    "\n",
    "##### TRANSFORMACIÓN DE DATOS A NUMERICOS\n",
    "X['misma_ventana'] = X['misma_ventana'].map(dic_misma_ventana)\n",
    "#X['account_number'] = X['account_number'].map(dic_account_number)"
   ]
  },
  {
   "cell_type": "markdown",
   "metadata": {},
   "source": [
    "#Implementación del modelo"
   ]
  },
  {
   "cell_type": "code",
   "execution_count": null,
   "metadata": {},
   "outputs": [],
   "source": [
    "min_cluster_size = 4  # Tamaño mínimo del clúster (ajusta según tus datos)\n",
    "\n",
    "hdbscan_clusterer = hdbscan.HDBSCAN(min_cluster_size=min_cluster_size)\n",
    "labels = hdbscan_clusterer.fit_predict(X)\n"
   ]
  },
  {
   "cell_type": "code",
   "execution_count": null,
   "metadata": {},
   "outputs": [],
   "source": [
    "df_mod['hdbscan_label'] = labels  # Agrega las etiquetas al DataFrame original\n",
    "possible_fract_transactions = df_mod[df_mod['hdbscan_label'] == -1]"
   ]
  },
  {
   "cell_type": "code",
   "execution_count": null,
   "metadata": {},
   "outputs": [],
   "source": [
    "df_mod.head(60)"
   ]
  },
  {
   "cell_type": "code",
   "execution_count": null,
   "metadata": {},
   "outputs": [],
   "source": [
    "df_mod[df_mod['posible_fraccionamiento']==1].head(60)"
   ]
  }
 ],
 "metadata": {
  "kernelspec": {
   "display_name": "Data_Stat",
   "language": "python",
   "name": "python3"
  },
  "language_info": {
   "name": "python",
   "version": "3.8.17"
  },
  "orig_nbformat": 4
 },
 "nbformat": 4,
 "nbformat_minor": 2
}
